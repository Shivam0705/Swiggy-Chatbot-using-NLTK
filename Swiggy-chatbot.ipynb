{
 "cells": [
  {
   "cell_type": "markdown",
   "metadata": {},
   "source": [
    "# # Importing libraries and downloading packages"
   ]
  },
  {
   "cell_type": "code",
   "execution_count": 1,
   "metadata": {},
   "outputs": [],
   "source": [
    "import nltk\n",
    "import numpy as np"
   ]
  },
  {
   "cell_type": "code",
   "execution_count": 2,
   "metadata": {},
   "outputs": [
    {
     "name": "stderr",
     "output_type": "stream",
     "text": [
      "[nltk_data] Downloading package punkt to C:\\Users\\SHIVAM\n",
      "[nltk_data]     RAVI\\AppData\\Roaming\\nltk_data...\n",
      "[nltk_data]   Package punkt is already up-to-date!\n",
      "[nltk_data] Downloading package stopwords to C:\\Users\\SHIVAM\n",
      "[nltk_data]     RAVI\\AppData\\Roaming\\nltk_data...\n",
      "[nltk_data]   Package stopwords is already up-to-date!\n",
      "[nltk_data] Downloading package wordnet to C:\\Users\\SHIVAM\n",
      "[nltk_data]     RAVI\\AppData\\Roaming\\nltk_data...\n",
      "[nltk_data]   Package wordnet is already up-to-date!\n"
     ]
    },
    {
     "data": {
      "text/plain": [
       "True"
      ]
     },
     "execution_count": 2,
     "metadata": {},
     "output_type": "execute_result"
    }
   ],
   "source": [
    "# downloading model to tokenize message\n",
    "nltk.download('punkt')\n",
    "# downloading stopwords\n",
    "nltk.download('stopwords')\n",
    "# downloading wordnet, which contains all lemmas of english language\n",
    "nltk.download('wordnet')"
   ]
  },
  {
   "cell_type": "code",
   "execution_count": 3,
   "metadata": {},
   "outputs": [],
   "source": [
    "from nltk.tokenize import word_tokenize\n",
    "from nltk.corpus import stopwords\n",
    "stop_words = stopwords.words('english')\n",
    "\n",
    "from nltk.stem import WordNetLemmatizer"
   ]
  },
  {
   "cell_type": "code",
   "execution_count": 4,
   "metadata": {},
   "outputs": [
    {
     "data": {
      "text/plain": [
       "['i',\n",
       " 'me',\n",
       " 'my',\n",
       " 'myself',\n",
       " 'we',\n",
       " 'our',\n",
       " 'ours',\n",
       " 'ourselves',\n",
       " 'you',\n",
       " \"you're\",\n",
       " \"you've\",\n",
       " \"you'll\",\n",
       " \"you'd\",\n",
       " 'your',\n",
       " 'yours',\n",
       " 'yourself',\n",
       " 'yourselves',\n",
       " 'he',\n",
       " 'him',\n",
       " 'his',\n",
       " 'himself',\n",
       " 'she',\n",
       " \"she's\",\n",
       " 'her',\n",
       " 'hers',\n",
       " 'herself',\n",
       " 'it',\n",
       " \"it's\",\n",
       " 'its',\n",
       " 'itself',\n",
       " 'they',\n",
       " 'them',\n",
       " 'their',\n",
       " 'theirs',\n",
       " 'themselves',\n",
       " 'what',\n",
       " 'which',\n",
       " 'who',\n",
       " 'whom',\n",
       " 'this',\n",
       " 'that',\n",
       " \"that'll\",\n",
       " 'these',\n",
       " 'those',\n",
       " 'am',\n",
       " 'is',\n",
       " 'are',\n",
       " 'was',\n",
       " 'were',\n",
       " 'be',\n",
       " 'been',\n",
       " 'being',\n",
       " 'have',\n",
       " 'has',\n",
       " 'had',\n",
       " 'having',\n",
       " 'do',\n",
       " 'does',\n",
       " 'did',\n",
       " 'doing',\n",
       " 'a',\n",
       " 'an',\n",
       " 'the',\n",
       " 'and',\n",
       " 'but',\n",
       " 'if',\n",
       " 'or',\n",
       " 'because',\n",
       " 'as',\n",
       " 'until',\n",
       " 'while',\n",
       " 'of',\n",
       " 'at',\n",
       " 'by',\n",
       " 'for',\n",
       " 'with',\n",
       " 'about',\n",
       " 'against',\n",
       " 'between',\n",
       " 'into',\n",
       " 'through',\n",
       " 'during',\n",
       " 'before',\n",
       " 'after',\n",
       " 'above',\n",
       " 'below',\n",
       " 'to',\n",
       " 'from',\n",
       " 'up',\n",
       " 'down',\n",
       " 'in',\n",
       " 'out',\n",
       " 'on',\n",
       " 'off',\n",
       " 'over',\n",
       " 'under',\n",
       " 'again',\n",
       " 'further',\n",
       " 'then',\n",
       " 'once',\n",
       " 'here',\n",
       " 'there',\n",
       " 'when',\n",
       " 'where',\n",
       " 'why',\n",
       " 'how',\n",
       " 'all',\n",
       " 'any',\n",
       " 'both',\n",
       " 'each',\n",
       " 'few',\n",
       " 'more',\n",
       " 'most',\n",
       " 'other',\n",
       " 'some',\n",
       " 'such',\n",
       " 'no',\n",
       " 'nor',\n",
       " 'not',\n",
       " 'only',\n",
       " 'own',\n",
       " 'same',\n",
       " 'so',\n",
       " 'than',\n",
       " 'too',\n",
       " 'very',\n",
       " 's',\n",
       " 't',\n",
       " 'can',\n",
       " 'will',\n",
       " 'just',\n",
       " 'don',\n",
       " \"don't\",\n",
       " 'should',\n",
       " \"should've\",\n",
       " 'now',\n",
       " 'd',\n",
       " 'll',\n",
       " 'm',\n",
       " 'o',\n",
       " 're',\n",
       " 've',\n",
       " 'y',\n",
       " 'ain',\n",
       " 'aren',\n",
       " \"aren't\",\n",
       " 'couldn',\n",
       " \"couldn't\",\n",
       " 'didn',\n",
       " \"didn't\",\n",
       " 'doesn',\n",
       " \"doesn't\",\n",
       " 'hadn',\n",
       " \"hadn't\",\n",
       " 'hasn',\n",
       " \"hasn't\",\n",
       " 'haven',\n",
       " \"haven't\",\n",
       " 'isn',\n",
       " \"isn't\",\n",
       " 'ma',\n",
       " 'mightn',\n",
       " \"mightn't\",\n",
       " 'mustn',\n",
       " \"mustn't\",\n",
       " 'needn',\n",
       " \"needn't\",\n",
       " 'shan',\n",
       " \"shan't\",\n",
       " 'shouldn',\n",
       " \"shouldn't\",\n",
       " 'wasn',\n",
       " \"wasn't\",\n",
       " 'weren',\n",
       " \"weren't\",\n",
       " 'won',\n",
       " \"won't\",\n",
       " 'wouldn',\n",
       " \"wouldn't\"]"
      ]
     },
     "execution_count": 4,
     "metadata": {},
     "output_type": "execute_result"
    }
   ],
   "source": [
    "stop_words"
   ]
  },
  {
   "cell_type": "markdown",
   "metadata": {},
   "source": [
    "## Function to clean text "
   ]
  },
  {
   "cell_type": "code",
   "execution_count": 5,
   "metadata": {},
   "outputs": [],
   "source": [
    "def clean_corpus(corpus):\n",
    "  # lowering every word in text\n",
    "  corpus = [ doc.lower() for doc in corpus]\n",
    "  cleaned_corpus = []\n",
    "  \n",
    "  stop_words = stopwords.words('english')\n",
    "  wordnet_lemmatizer = WordNetLemmatizer()\n",
    "\n",
    "  # iterating over every text\n",
    "  for doc in corpus:\n",
    "    # tokenizing text\n",
    "    tokens = word_tokenize(doc)\n",
    "    cleaned_sentence = [] \n",
    "    for token in tokens: \n",
    "      # removing stopwords, and punctuation\n",
    "      if token not in stop_words and token.isalpha(): \n",
    "        # applying lemmatization\n",
    "        cleaned_sentence.append(wordnet_lemmatizer.lemmatize(token)) \n",
    "    cleaned_corpus.append(' '.join(cleaned_sentence))\n",
    "  return cleaned_corpus"
   ]
  },
  {
   "cell_type": "markdown",
   "metadata": {},
   "source": [
    "# Loading and cleaning intents"
   ]
  },
  {
   "cell_type": "code",
   "execution_count": 6,
   "metadata": {},
   "outputs": [],
   "source": [
    "import json\n",
    "with open('intents.json') as file:\n",
    "    intents = json.load(file)"
   ]
  },
  {
   "cell_type": "code",
   "execution_count": 7,
   "metadata": {},
   "outputs": [],
   "source": [
    "corpus = []\n",
    "tags = []\n",
    "for intent in intents['intents']:\n",
    "    # taking all patterns in intents to train a neural network\n",
    "    for pattern in intent['patterns']:\n",
    "        corpus.append(pattern)\n",
    "        tags.append(intent['tag'])"
   ]
  },
  {
   "cell_type": "code",
   "execution_count": 8,
   "metadata": {},
   "outputs": [
    {
     "data": {
      "text/plain": [
       "['hi',\n",
       " 'anyone',\n",
       " 'hey',\n",
       " 'hola',\n",
       " 'hello',\n",
       " 'good day',\n",
       " 'bye',\n",
       " 'see later',\n",
       " 'goodbye',\n",
       " 'nice chatting bye',\n",
       " 'till next time',\n",
       " '',\n",
       " 'thanks',\n",
       " 'thank',\n",
       " 'helpful',\n",
       " 'awesome thanks',\n",
       " 'thanks helping',\n",
       " 'could help',\n",
       " 'help provide',\n",
       " 'helpful',\n",
       " 'support offered',\n",
       " 'please check order status',\n",
       " 'able check order status',\n",
       " 'help order status',\n",
       " 'order status',\n",
       " 'order',\n",
       " 'food',\n",
       " 'track order',\n",
       " 'track food',\n",
       " 'hi want cancel order',\n",
       " 'want cancel order',\n",
       " 'please cancel order',\n",
       " 'cancel order',\n",
       " 'want add delivery instruction',\n",
       " 'please add delivery instruction',\n",
       " 'include delivery instruction',\n",
       " 'tell joke',\n",
       " 'feeling bored',\n",
       " 'joke please',\n",
       " 'make laugh',\n",
       " 'want laugh']"
      ]
     },
     "execution_count": 8,
     "metadata": {},
     "output_type": "execute_result"
    }
   ],
   "source": [
    "cleaned_corpus = clean_corpus(corpus)\n",
    "cleaned_corpus"
   ]
  },
  {
   "cell_type": "markdown",
   "metadata": {},
   "source": [
    "# Vectorizing intents"
   ]
  },
  {
   "cell_type": "code",
   "execution_count": 9,
   "metadata": {},
   "outputs": [],
   "source": [
    "from sklearn.feature_extraction.text import TfidfVectorizer\n",
    "vectorizer = TfidfVectorizer()\n",
    "X = vectorizer.fit_transform(cleaned_corpus)"
   ]
  },
  {
   "cell_type": "code",
   "execution_count": 10,
   "metadata": {},
   "outputs": [
    {
     "data": {
      "text/plain": [
       "(41, 45)"
      ]
     },
     "execution_count": 10,
     "metadata": {},
     "output_type": "execute_result"
    }
   ],
   "source": [
    "X.shape"
   ]
  },
  {
   "cell_type": "code",
   "execution_count": 11,
   "metadata": {},
   "outputs": [],
   "source": [
    "from sklearn.preprocessing import OneHotEncoder\n",
    "encoder = OneHotEncoder()\n",
    "y = encoder.fit_transform(np.array(tags).reshape(-1,1))\n"
   ]
  },
  {
   "cell_type": "markdown",
   "metadata": {},
   "source": [
    "# Training neural network"
   ]
  },
  {
   "cell_type": "code",
   "execution_count": 12,
   "metadata": {},
   "outputs": [
    {
     "name": "stdout",
     "output_type": "stream",
     "text": [
      "Model: \"sequential\"\n",
      "_________________________________________________________________\n",
      "Layer (type)                 Output Shape              Param #   \n",
      "=================================================================\n",
      "dense (Dense)                (None, 128)               5888      \n",
      "_________________________________________________________________\n",
      "dropout (Dropout)            (None, 128)               0         \n",
      "_________________________________________________________________\n",
      "dense_1 (Dense)              (None, 64)                8256      \n",
      "_________________________________________________________________\n",
      "dropout_1 (Dropout)          (None, 64)                0         \n",
      "_________________________________________________________________\n",
      "dense_2 (Dense)              (None, 8)                 520       \n",
      "=================================================================\n",
      "Total params: 14,664\n",
      "Trainable params: 14,664\n",
      "Non-trainable params: 0\n",
      "_________________________________________________________________\n"
     ]
    }
   ],
   "source": [
    "from tensorflow.keras import Sequential\n",
    "from tensorflow.keras.layers import Dense, Dropout\n",
    "\n",
    "model = Sequential([\n",
    "                    Dense(128, input_shape=(X.shape[1],), activation='relu'),\n",
    "                    Dropout(0.2),\n",
    "                    Dense(64, activation='relu'),\n",
    "                    Dropout(0.2),\n",
    "                    Dense(y.shape[1], activation='softmax')\n",
    "])\n",
    "\n",
    "model.compile(loss='categorical_crossentropy', optimizer='adam', metrics=['accuracy'])\n",
    "model.summary()"
   ]
  },
  {
   "cell_type": "code",
   "execution_count": 13,
   "metadata": {},
   "outputs": [
    {
     "name": "stdout",
     "output_type": "stream",
     "text": [
      "Epoch 1/30\n",
      "41/41 [==============================] - 0s 4ms/step - loss: 2.0564 - accuracy: 0.1707\n",
      "Epoch 2/30\n",
      "41/41 [==============================] - 0s 3ms/step - loss: 1.9784 - accuracy: 0.3659\n",
      "Epoch 3/30\n",
      "41/41 [==============================] - 0s 3ms/step - loss: 1.8969 - accuracy: 0.2683\n",
      "Epoch 4/30\n",
      "41/41 [==============================] - 0s 4ms/step - loss: 1.7371 - accuracy: 0.4146\n",
      "Epoch 5/30\n",
      "41/41 [==============================] - 0s 4ms/step - loss: 1.5751 - accuracy: 0.4878\n",
      "Epoch 6/30\n",
      "41/41 [==============================] - 0s 4ms/step - loss: 1.3995 - accuracy: 0.6098\n",
      "Epoch 7/30\n",
      "41/41 [==============================] - 0s 2ms/step - loss: 1.2658 - accuracy: 0.7317\n",
      "Epoch 8/30\n",
      "41/41 [==============================] - 0s 1ms/step - loss: 0.9365 - accuracy: 0.8780\n",
      "Epoch 9/30\n",
      "41/41 [==============================] - 0s 1ms/step - loss: 0.8060 - accuracy: 0.9024\n",
      "Epoch 10/30\n",
      "41/41 [==============================] - 0s 2ms/step - loss: 0.6035 - accuracy: 0.9756\n",
      "Epoch 11/30\n",
      "41/41 [==============================] - 0s 2ms/step - loss: 0.4411 - accuracy: 0.9756\n",
      "Epoch 12/30\n",
      "41/41 [==============================] - 0s 4ms/step - loss: 0.3132 - accuracy: 0.9268\n",
      "Epoch 13/30\n",
      "41/41 [==============================] - 0s 4ms/step - loss: 0.3288 - accuracy: 0.9512\n",
      "Epoch 14/30\n",
      "41/41 [==============================] - 0s 5ms/step - loss: 0.1936 - accuracy: 0.9756\n",
      "Epoch 15/30\n",
      "41/41 [==============================] - 0s 4ms/step - loss: 0.2055 - accuracy: 0.9756\n",
      "Epoch 16/30\n",
      "41/41 [==============================] - 0s 3ms/step - loss: 0.1437 - accuracy: 0.9756\n",
      "Epoch 17/30\n",
      "41/41 [==============================] - 0s 3ms/step - loss: 0.1643 - accuracy: 0.9512\n",
      "Epoch 18/30\n",
      "41/41 [==============================] - 0s 3ms/step - loss: 0.1600 - accuracy: 0.9512\n",
      "Epoch 19/30\n",
      "41/41 [==============================] - 0s 2ms/step - loss: 0.1068 - accuracy: 0.9756\n",
      "Epoch 20/30\n",
      "41/41 [==============================] - 0s 2ms/step - loss: 0.1344 - accuracy: 0.9512\n",
      "Epoch 21/30\n",
      "41/41 [==============================] - 0s 1ms/step - loss: 0.1014 - accuracy: 0.9756\n",
      "Epoch 22/30\n",
      "41/41 [==============================] - 0s 2ms/step - loss: 0.0917 - accuracy: 0.9756\n",
      "Epoch 23/30\n",
      "41/41 [==============================] - 0s 3ms/step - loss: 0.0997 - accuracy: 0.9756\n",
      "Epoch 24/30\n",
      "41/41 [==============================] - 0s 3ms/step - loss: 0.1039 - accuracy: 0.9756\n",
      "Epoch 25/30\n",
      "41/41 [==============================] - 0s 3ms/step - loss: 0.0558 - accuracy: 1.0000\n",
      "Epoch 26/30\n",
      "41/41 [==============================] - 0s 2ms/step - loss: 0.0617 - accuracy: 1.0000\n",
      "Epoch 27/30\n",
      "41/41 [==============================] - 0s 2ms/step - loss: 0.0841 - accuracy: 0.9756\n",
      "Epoch 28/30\n",
      "41/41 [==============================] - 0s 2ms/step - loss: 0.1154 - accuracy: 0.9512\n",
      "Epoch 29/30\n",
      "41/41 [==============================] - 0s 2ms/step - loss: 0.0575 - accuracy: 0.9756\n",
      "Epoch 30/30\n",
      "41/41 [==============================] - 0s 2ms/step - loss: 0.0709 - accuracy: 0.9512\n"
     ]
    }
   ],
   "source": [
    "history = model.fit(X.toarray(), y.toarray(), epochs=30, batch_size=1)"
   ]
  },
  {
   "cell_type": "markdown",
   "metadata": {},
   "source": [
    "# Classifying messages to intent "
   ]
  },
  {
   "cell_type": "code",
   "execution_count": 14,
   "metadata": {},
   "outputs": [
    {
     "name": "stdout",
     "output_type": "stream",
     "text": [
      "options\n",
      "goodbye\n",
      "order-status-request\n"
     ]
    }
   ],
   "source": [
    "# if prediction for every tag is low, then we want to classify that message as noanswer\n",
    "INTENT_NOT_FOUND_THRESHOLD = 0.40\n",
    "\n",
    "def predict_intent_tag(message):\n",
    "  message = clean_corpus([message])\n",
    "  X_test = vectorizer.transform(message)\n",
    "  y = model.predict(X_test.toarray())\n",
    "  # if probability of all intent is low, classify it as noanswer\n",
    "  if y.max() < INTENT_NOT_FOUND_THRESHOLD:\n",
    "    return 'noanswer'\n",
    "  \n",
    "  prediction = np.zeros_like(y[0])\n",
    "  prediction[y.argmax()] = 1\n",
    "  tag = encoder.inverse_transform([prediction])[0][0]\n",
    "  return tag\n",
    "\n",
    "print(predict_intent_tag('How you could help me?'))\n",
    "print(predict_intent_tag('swiggy chat bot'))\n",
    "print(predict_intent_tag('Where\\'s my order'))\n"
   ]
  },
  {
   "cell_type": "code",
   "execution_count": 15,
   "metadata": {},
   "outputs": [],
   "source": [
    "import random\n",
    "import time "
   ]
  },
  {
   "cell_type": "code",
   "execution_count": 16,
   "metadata": {},
   "outputs": [],
   "source": [
    "def get_intent(tag):\n",
    "  # to return complete intent from intent tag\n",
    "  for intent in intents['intents']:\n",
    "    if intent['tag'] == tag:\n",
    "      return intent"
   ]
  },
  {
   "cell_type": "code",
   "execution_count": 17,
   "metadata": {},
   "outputs": [],
   "source": [
    "def perform_action(action_code, intent):\n",
    "  # funition to perform an action which is required by intent\n",
    "  \n",
    "  if action_code == 'CHECK_ORDER_STATUS':\n",
    "    print('\\n Checking database \\n')\n",
    "    time.sleep(2)\n",
    "    order_status = ['in kitchen', 'with delivery executive']\n",
    "    delivery_time = []\n",
    "    return {'intent-tag':intent['next-intent-tag'][0],\n",
    "            'order_status': random.choice(order_status),\n",
    "            'delivery_time': random.randint(10, 30)}\n",
    "  \n",
    "  elif action_code == 'ORDER_CANCEL_CONFIRMATION':\n",
    "    ch = input('BOT: Do you want to continue (Y/n) ?')\n",
    "    if ch == 'y' or ch == 'Y':\n",
    "      choice = 0\n",
    "    else:\n",
    "      choice = 1\n",
    "    return {'intent-tag':intent['next-intent-tag'][choice]}\n",
    "  \n",
    "  elif action_code == 'ADD_DELIVERY_INSTRUCTIONS':\n",
    "    instructions = input('Your Instructions: ')\n",
    "    return {'intent-tag':intent['next-intent-tag'][0]}"
   ]
  },
  {
   "cell_type": "markdown",
   "metadata": {},
   "source": [
    "# Complete chat bot"
   ]
  },
  {
   "cell_type": "code",
   "execution_count": 18,
   "metadata": {},
   "outputs": [
    {
     "name": "stdout",
     "output_type": "stream",
     "text": [
      "You: hi\n",
      "Bot:  Good to see you again\n",
      "You: order update\n",
      "Bot:  I am checking your status of your order, Please wait.\n",
      "\n",
      " Checking database \n",
      "\n",
      "Bot:  Your order is currently with delivery executive, it will be delivered in 19 minutes. Do you need any more help?\n",
      "You: want to cancel\n",
      "Bot:  I can cancel your order, there can be a cancellation fee depending on your order status. I need your final confirmation to confirm your order.\n",
      "BOT: Do you want to continue (Y/n) ?Y\n",
      "Bot:  I have canceled your order, the order refund will reflect in your account in 2 days. Do you need any more help?\n",
      "You: no\n",
      "Bot:  Have a nice day\n"
     ]
    }
   ],
   "source": [
    "while True:\n",
    "  # get message from user\n",
    "  message = input('You: ')\n",
    "  # predict intent tag using trained neural network\n",
    "  tag = predict_intent_tag(message)\n",
    "  # get complete intent from intent tag\n",
    "  intent = get_intent(tag)\n",
    "  # generate random response from intent\n",
    "  response = random.choice(intent['responses'])\n",
    "  print('Bot: ', response)\n",
    "\n",
    "  # check if there's a need to perform some action\n",
    "  if 'action' in intent.keys():\n",
    "    action_code = intent['action']\n",
    "    # perform action\n",
    "    data = perform_action(action_code, intent)\n",
    "    # get follow up intent after performing action\n",
    "    followup_intent = get_intent(data['intent-tag'])\n",
    "    # generate random response from follow up intent\n",
    "    response = random.choice(followup_intent['responses'])\n",
    "\n",
    "    # print randomly selected response\n",
    "    if len(data.keys()) > 1:\n",
    "      print('Bot: ', response.format(**data))\n",
    "    else:\n",
    "      print('Bot: ', response)\n",
    "\n",
    "  # break loop if intent was goodbye\n",
    "  if tag == 'goodbye':\n",
    "    break"
   ]
  },
  {
   "cell_type": "code",
   "execution_count": null,
   "metadata": {},
   "outputs": [],
   "source": []
  }
 ],
 "metadata": {
  "kernelspec": {
   "display_name": "Python 3",
   "language": "python",
   "name": "python3"
  },
  "language_info": {
   "codemirror_mode": {
    "name": "ipython",
    "version": 3
   },
   "file_extension": ".py",
   "mimetype": "text/x-python",
   "name": "python",
   "nbconvert_exporter": "python",
   "pygments_lexer": "ipython3",
   "version": "3.7.6"
  }
 },
 "nbformat": 4,
 "nbformat_minor": 4
}
